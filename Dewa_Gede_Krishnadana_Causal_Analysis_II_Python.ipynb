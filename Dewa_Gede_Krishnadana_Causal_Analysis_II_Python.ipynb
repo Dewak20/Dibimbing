{
  "nbformat": 4,
  "nbformat_minor": 0,
  "metadata": {
    "colab": {
      "name": "Dewa Gede Krishnadana - Causal Analysis II - Python.ipynb",
      "provenance": [],
      "collapsed_sections": [],
      "include_colab_link": true
    },
    "kernelspec": {
      "name": "python3",
      "display_name": "Python 3"
    },
    "language_info": {
      "name": "python"
    }
  },
  "cells": [
    {
      "cell_type": "markdown",
      "metadata": {
        "id": "view-in-github",
        "colab_type": "text"
      },
      "source": [
        "<a href=\"https://colab.research.google.com/github/Dewak20/Dibimbing/blob/main/Dewa_Gede_Krishnadana_Causal_Analysis_II_Python.ipynb\" target=\"_parent\"><img src=\"https://colab.research.google.com/assets/colab-badge.svg\" alt=\"Open In Colab\"/></a>"
      ]
    },
    {
      "cell_type": "markdown",
      "source": [
        "## Essay Test"
      ],
      "metadata": {
        "id": "WOjIRZJWKq80"
      }
    },
    {
      "cell_type": "markdown",
      "source": [
        "- Jelaskan mengapa proses matching perlu dilakukan ketika ingin mengukur dampak dari suatu treatment pada propensity score modeling?\n",
        "\n",
        "- Sebelum adanya Double ML, peneliti machine learning menggunakan metode Double Selection untuk menguji efek dari treatment. Namun pada akhirnya Double Machine Learning digunakan karena lebih baik dibandingkan dengan Double Selection. Jelaskan mengapa Double ML lebih baik digunakan ketimbang Double Selection? Masalah apa yang ada pada Double Selection yang dapat diselesaikan dengan Double ML?\n",
        "\n",
        "- Ada banyak metrik yang dapat digunakan untuk mengukur dampak dari suatu variabel: ATE, CATE, dan LATE. Jelaskan kapan masing-masing metrik digunakan!\n",
        "\n",
        "- Berikut adalah pertanyaan open-ended, akan dinilai berdasarkan argumentasi yang memiliki landasan. \n",
        "Kita dapat mengekstrak knowledge dari model dengan menggunakan interpretable machine learning. Namun kita juga dapat menggunakan metode seperti double ML untuk mendapatkan pola sebab-akibat berdasarkan data generation process. Mana metode yang lebih baik untuk menjelaskan dampak dari akibat? Kapan metode interpretable machine learning dapat digunakan untuk analisis kausal?"
      ],
      "metadata": {
        "id": "kOd7Y8n6KvfU"
      }
    },
    {
      "cell_type": "markdown",
      "source": [
        "#1\n",
        "Jelaskan mengapa proses matching perlu dilakukan ketika ingin mengukur dampak dari suatu treatment pada propensity score modeling?\n",
        "\n",
        "Proses matching dilakukan agar variable yang ingin diukur efect treatmentnya mempunyai karakteristik atau kelompok yang sama, maka perlu dimatching untuk mencari data yang sama atau mirip. jika tidak dimatching terlebih dahulu bisa jadi ada beberapa data yang diluar karakteristik dan hal ini dapat membiaskan hasil analisis. Sama seperti kasus pemberian obat herbal untuk meningkatkan daya tahan tubuh. jika sample yang dipakai tidak dimatching dimana samplenya terdiri dari orang tua dan remaja maka bisa jadi umur yang mempengaruhi keberhasilannya bukan obatnya. maka perlu dimatching agar sample yang digunakan sama berdasarkan umur."
      ],
      "metadata": {
        "id": "LZAwOLIbK9es"
      }
    },
    {
      "cell_type": "markdown",
      "source": [
        "#2\n",
        "Sebelum adanya Double ML, peneliti machine learning menggunakan metode Double Selection untuk menguji efek dari treatment. Namun pada akhirnya Double Machine Learning digunakan karena lebih baik dibandingkan dengan Double Selection. Jelaskan mengapa Double ML lebih baik digunakan ketimbang Double Selection? Masalah apa yang ada pada Double Selection yang dapat diselesaikan dengan Double ML?\n",
        "\n",
        "Double ML itu lebih baik dengan Double selection karena memang Double ML adalah pembaharuan dari double decision yang mana dalam model double decision ada beberapa masalah yaitu tidak bisa bisa melihat data secara heterogen. Double decision melihat semua orang itu homogen. Selain itu model ini juga menggunakan cara yang lebih simple."
      ],
      "metadata": {
        "id": "SBy5qMqvO5dD"
      }
    },
    {
      "cell_type": "markdown",
      "source": [
        "#3\n",
        "Ada banyak metrik yang dapat digunakan untuk mengukur dampak dari suatu variabel: ATE, CATE, dan LATE. Jelaskan kapan masing-masing metrik digunakan!\n",
        "\n",
        "- ATE digunakan ketika ingin mengukur efect dari treatment ke variable secara rata2 atau simplenya melihat berapa rata pengaruh treatment ke variable\n",
        "- CATE hampir sama dengan ATE tapi bedanya ada pada kondisinya. Jadi nanti pengaruh dari treatment yang diberikan akan diukur berdasarkan beberapa kondisi. Contohnya jika ingin melihat berapa besar efect treatment obat kanker berdasarkan usia pasien. jadi konisinya berdasarkan rentangan umur si pasiennya.\n",
        "- LATE digunakan ketika sample yang ingin ditreatment tidak berkeinginan atau tidak sesuai dengan prosedur yang dilakukan ketika treatment diberikan"
      ],
      "metadata": {
        "id": "F9EO_dxNTilT"
      }
    },
    {
      "cell_type": "markdown",
      "source": [
        "#4\n",
        "Berikut adalah pertanyaan open-ended, akan dinilai berdasarkan argumentasi yang memiliki landasan. Kita dapat mengekstrak knowledge dari model dengan menggunakan interpretable machine learning. Namun kita juga dapat menggunakan metode seperti double ML untuk mendapatkan pola sebab-akibat berdasarkan data generation process. Mana metode yang lebih baik untuk menjelaskan dampak dari akibat? Kapan metode interpretable machine learning dapat digunakan untuk analisis kausal?\n",
        "\n",
        "Menurut pendapat saya mungkin metode yang lebih baik adalah menggunakan double ML. Karena ini sudah bisa digunakan pada data yang heterogen dan juga memiliki perhitungan yang lebih complex. Metode interpretable machine learning dapat digunakan untuk analisis kausal ketika kita ingin mengatahui sebuah efect dari treatment yang kita berikan pada suatu variable."
      ],
      "metadata": {
        "id": "SEhDUjUFXMvK"
      }
    },
    {
      "cell_type": "markdown",
      "source": [
        "# Install and Load Packages"
      ],
      "metadata": {
        "id": "WwmGZsO4k54O"
      }
    },
    {
      "cell_type": "code",
      "source": [
        "!pip install econml"
      ],
      "metadata": {
        "id": "-0NoT5ONlFf7",
        "colab": {
          "base_uri": "https://localhost:8080/"
        },
        "outputId": "eca1ac41-d542-44a4-8d01-bcb15aad5413"
      },
      "execution_count": null,
      "outputs": [
        {
          "output_type": "stream",
          "name": "stdout",
          "text": [
            "Looking in indexes: https://pypi.org/simple, https://us-python.pkg.dev/colab-wheels/public/simple/\n",
            "Collecting econml\n",
            "  Downloading econml-0.13.1-cp37-cp37m-manylinux_2_17_x86_64.manylinux2014_x86_64.whl (3.3 MB)\n",
            "\u001b[K     |████████████████████████████████| 3.3 MB 6.6 MB/s \n",
            "\u001b[?25hCollecting dowhy<0.8\n",
            "  Downloading dowhy-0.7.1-py3-none-any.whl (164 kB)\n",
            "\u001b[K     |████████████████████████████████| 164 kB 42.6 MB/s \n",
            "\u001b[?25hRequirement already satisfied: lightgbm in /usr/local/lib/python3.7/dist-packages (from econml) (2.2.3)\n",
            "Requirement already satisfied: pandas in /usr/local/lib/python3.7/dist-packages (from econml) (1.3.5)\n",
            "Collecting shap<0.41.0,>=0.38.1\n",
            "  Downloading shap-0.40.0-cp37-cp37m-manylinux2010_x86_64.whl (564 kB)\n",
            "\u001b[K     |████████████████████████████████| 564 kB 53.7 MB/s \n",
            "\u001b[?25hRequirement already satisfied: statsmodels>=0.10 in /usr/local/lib/python3.7/dist-packages (from econml) (0.12.2)\n",
            "Requirement already satisfied: scikit-learn<1.2,>0.22.0 in /usr/local/lib/python3.7/dist-packages (from econml) (1.0.2)\n",
            "Collecting sparse\n",
            "  Downloading sparse-0.13.0-py2.py3-none-any.whl (77 kB)\n",
            "\u001b[K     |████████████████████████████████| 77 kB 1.2 MB/s \n",
            "\u001b[?25hRequirement already satisfied: joblib>=0.13.0 in /usr/local/lib/python3.7/dist-packages (from econml) (1.1.0)\n",
            "Requirement already satisfied: numpy in /usr/local/lib/python3.7/dist-packages (from econml) (1.21.6)\n",
            "Requirement already satisfied: scipy>1.4.0 in /usr/local/lib/python3.7/dist-packages (from econml) (1.7.3)\n",
            "Requirement already satisfied: sympy>=1.4 in /usr/local/lib/python3.7/dist-packages (from dowhy<0.8->econml) (1.7.1)\n",
            "Requirement already satisfied: networkx>=2.0 in /usr/local/lib/python3.7/dist-packages (from dowhy<0.8->econml) (2.6.3)\n",
            "Collecting pydot>=1.4\n",
            "  Downloading pydot-1.4.2-py2.py3-none-any.whl (21 kB)\n",
            "Requirement already satisfied: python-dateutil>=2.7.3 in /usr/local/lib/python3.7/dist-packages (from pandas->econml) (2.8.2)\n",
            "Requirement already satisfied: pytz>=2017.3 in /usr/local/lib/python3.7/dist-packages (from pandas->econml) (2022.2.1)\n",
            "Requirement already satisfied: pyparsing>=2.1.4 in /usr/local/lib/python3.7/dist-packages (from pydot>=1.4->dowhy<0.8->econml) (3.0.9)\n",
            "Requirement already satisfied: six>=1.5 in /usr/local/lib/python3.7/dist-packages (from python-dateutil>=2.7.3->pandas->econml) (1.15.0)\n",
            "Requirement already satisfied: threadpoolctl>=2.0.0 in /usr/local/lib/python3.7/dist-packages (from scikit-learn<1.2,>0.22.0->econml) (3.1.0)\n",
            "Requirement already satisfied: tqdm>4.25.0 in /usr/local/lib/python3.7/dist-packages (from shap<0.41.0,>=0.38.1->econml) (4.64.0)\n",
            "Collecting slicer==0.0.7\n",
            "  Downloading slicer-0.0.7-py3-none-any.whl (14 kB)\n",
            "Requirement already satisfied: numba in /usr/local/lib/python3.7/dist-packages (from shap<0.41.0,>=0.38.1->econml) (0.56.0)\n",
            "Requirement already satisfied: cloudpickle in /usr/local/lib/python3.7/dist-packages (from shap<0.41.0,>=0.38.1->econml) (1.5.0)\n",
            "Requirement already satisfied: packaging>20.9 in /usr/local/lib/python3.7/dist-packages (from shap<0.41.0,>=0.38.1->econml) (21.3)\n",
            "Requirement already satisfied: patsy>=0.5 in /usr/local/lib/python3.7/dist-packages (from statsmodels>=0.10->econml) (0.5.2)\n",
            "Requirement already satisfied: mpmath>=0.19 in /usr/local/lib/python3.7/dist-packages (from sympy>=1.4->dowhy<0.8->econml) (1.2.1)\n",
            "Requirement already satisfied: llvmlite<0.40,>=0.39.0dev0 in /usr/local/lib/python3.7/dist-packages (from numba->shap<0.41.0,>=0.38.1->econml) (0.39.0)\n",
            "Requirement already satisfied: importlib-metadata in /usr/local/lib/python3.7/dist-packages (from numba->shap<0.41.0,>=0.38.1->econml) (4.12.0)\n",
            "Requirement already satisfied: setuptools in /usr/local/lib/python3.7/dist-packages (from numba->shap<0.41.0,>=0.38.1->econml) (57.4.0)\n",
            "Requirement already satisfied: typing-extensions>=3.6.4 in /usr/local/lib/python3.7/dist-packages (from importlib-metadata->numba->shap<0.41.0,>=0.38.1->econml) (4.1.1)\n",
            "Requirement already satisfied: zipp>=0.5 in /usr/local/lib/python3.7/dist-packages (from importlib-metadata->numba->shap<0.41.0,>=0.38.1->econml) (3.8.1)\n",
            "Installing collected packages: slicer, pydot, sparse, shap, dowhy, econml\n",
            "  Attempting uninstall: pydot\n",
            "    Found existing installation: pydot 1.3.0\n",
            "    Uninstalling pydot-1.3.0:\n",
            "      Successfully uninstalled pydot-1.3.0\n",
            "Successfully installed dowhy-0.7.1 econml-0.13.1 pydot-1.4.2 shap-0.40.0 slicer-0.0.7 sparse-0.13.0\n"
          ]
        }
      ]
    },
    {
      "cell_type": "code",
      "source": [
        "# data exploration package\n",
        "import numpy as np\n",
        "import pandas as pd\n",
        "import pandas as pd\n",
        "import numpy as np\n",
        "from matplotlib import pyplot as plt\n",
        "import seaborn as sns\n",
        "\n",
        "# scikit learn\n",
        "from sklearn.linear_model import ElasticNetCV, LinearRegression\n",
        "from sklearn.ensemble import GradientBoostingRegressor, RandomForestRegressor, RandomForestClassifier\n",
        "from sklearn.tree import DecisionTreeRegressor\n",
        "from sklearn.tree import DecisionTreeClassifier\n",
        "from sklearn.model_selection import train_test_split\n",
        "\n",
        "# econml\n",
        "from econml.dml import DML\n",
        "from econml.metalearners import TLearner, SLearner, XLearner"
      ],
      "metadata": {
        "id": "d_N2TbZ7lJwg"
      },
      "execution_count": null,
      "outputs": []
    },
    {
      "cell_type": "markdown",
      "source": [
        "# Load Dataset"
      ],
      "metadata": {
        "id": "uzbEUQPnlyYX"
      }
    },
    {
      "cell_type": "code",
      "source": [
        "# dataset\n",
        "df = pd.read_csv(\"https://raw.githubusercontent.com/hadimaster65555/dataset_for_teaching/main/dataset/learning_mindset/learning_mindset.csv\")\n",
        "df.head(5)"
      ],
      "metadata": {
        "id": "GVxOXWY0l2fS",
        "colab": {
          "base_uri": "https://localhost:8080/",
          "height": 270
        },
        "outputId": "f8d0edc0-08fd-4f29-b145-5ab9443f5ec9"
      },
      "execution_count": null,
      "outputs": [
        {
          "output_type": "execute_result",
          "data": {
            "text/plain": [
              "   schoolid  intervention  achievement_score  success_expect  ethnicity  \\\n",
              "0        76             1           0.277359               6          4   \n",
              "1        76             1          -0.449646               4         12   \n",
              "2        76             1           0.769703               6          4   \n",
              "3        76             1          -0.121763               6          4   \n",
              "4        76             1           1.526147               6          4   \n",
              "\n",
              "   gender  frst_in_family  school_urbanicity  school_mindset  \\\n",
              "0       2               1                  4        0.334544   \n",
              "1       2               1                  4        0.334544   \n",
              "2       2               0                  4        0.334544   \n",
              "3       2               0                  4        0.334544   \n",
              "4       1               0                  4        0.334544   \n",
              "\n",
              "   school_achievement  school_ethnic_minority  school_poverty  school_size  \n",
              "0            0.648586               -1.310927        0.224077    -0.426757  \n",
              "1            0.648586               -1.310927        0.224077    -0.426757  \n",
              "2            0.648586               -1.310927        0.224077    -0.426757  \n",
              "3            0.648586               -1.310927        0.224077    -0.426757  \n",
              "4            0.648586               -1.310927        0.224077    -0.426757  "
            ],
            "text/html": [
              "\n",
              "  <div id=\"df-83e9ff3f-0c91-4af7-8f5b-ce8513a4bda2\">\n",
              "    <div class=\"colab-df-container\">\n",
              "      <div>\n",
              "<style scoped>\n",
              "    .dataframe tbody tr th:only-of-type {\n",
              "        vertical-align: middle;\n",
              "    }\n",
              "\n",
              "    .dataframe tbody tr th {\n",
              "        vertical-align: top;\n",
              "    }\n",
              "\n",
              "    .dataframe thead th {\n",
              "        text-align: right;\n",
              "    }\n",
              "</style>\n",
              "<table border=\"1\" class=\"dataframe\">\n",
              "  <thead>\n",
              "    <tr style=\"text-align: right;\">\n",
              "      <th></th>\n",
              "      <th>schoolid</th>\n",
              "      <th>intervention</th>\n",
              "      <th>achievement_score</th>\n",
              "      <th>success_expect</th>\n",
              "      <th>ethnicity</th>\n",
              "      <th>gender</th>\n",
              "      <th>frst_in_family</th>\n",
              "      <th>school_urbanicity</th>\n",
              "      <th>school_mindset</th>\n",
              "      <th>school_achievement</th>\n",
              "      <th>school_ethnic_minority</th>\n",
              "      <th>school_poverty</th>\n",
              "      <th>school_size</th>\n",
              "    </tr>\n",
              "  </thead>\n",
              "  <tbody>\n",
              "    <tr>\n",
              "      <th>0</th>\n",
              "      <td>76</td>\n",
              "      <td>1</td>\n",
              "      <td>0.277359</td>\n",
              "      <td>6</td>\n",
              "      <td>4</td>\n",
              "      <td>2</td>\n",
              "      <td>1</td>\n",
              "      <td>4</td>\n",
              "      <td>0.334544</td>\n",
              "      <td>0.648586</td>\n",
              "      <td>-1.310927</td>\n",
              "      <td>0.224077</td>\n",
              "      <td>-0.426757</td>\n",
              "    </tr>\n",
              "    <tr>\n",
              "      <th>1</th>\n",
              "      <td>76</td>\n",
              "      <td>1</td>\n",
              "      <td>-0.449646</td>\n",
              "      <td>4</td>\n",
              "      <td>12</td>\n",
              "      <td>2</td>\n",
              "      <td>1</td>\n",
              "      <td>4</td>\n",
              "      <td>0.334544</td>\n",
              "      <td>0.648586</td>\n",
              "      <td>-1.310927</td>\n",
              "      <td>0.224077</td>\n",
              "      <td>-0.426757</td>\n",
              "    </tr>\n",
              "    <tr>\n",
              "      <th>2</th>\n",
              "      <td>76</td>\n",
              "      <td>1</td>\n",
              "      <td>0.769703</td>\n",
              "      <td>6</td>\n",
              "      <td>4</td>\n",
              "      <td>2</td>\n",
              "      <td>0</td>\n",
              "      <td>4</td>\n",
              "      <td>0.334544</td>\n",
              "      <td>0.648586</td>\n",
              "      <td>-1.310927</td>\n",
              "      <td>0.224077</td>\n",
              "      <td>-0.426757</td>\n",
              "    </tr>\n",
              "    <tr>\n",
              "      <th>3</th>\n",
              "      <td>76</td>\n",
              "      <td>1</td>\n",
              "      <td>-0.121763</td>\n",
              "      <td>6</td>\n",
              "      <td>4</td>\n",
              "      <td>2</td>\n",
              "      <td>0</td>\n",
              "      <td>4</td>\n",
              "      <td>0.334544</td>\n",
              "      <td>0.648586</td>\n",
              "      <td>-1.310927</td>\n",
              "      <td>0.224077</td>\n",
              "      <td>-0.426757</td>\n",
              "    </tr>\n",
              "    <tr>\n",
              "      <th>4</th>\n",
              "      <td>76</td>\n",
              "      <td>1</td>\n",
              "      <td>1.526147</td>\n",
              "      <td>6</td>\n",
              "      <td>4</td>\n",
              "      <td>1</td>\n",
              "      <td>0</td>\n",
              "      <td>4</td>\n",
              "      <td>0.334544</td>\n",
              "      <td>0.648586</td>\n",
              "      <td>-1.310927</td>\n",
              "      <td>0.224077</td>\n",
              "      <td>-0.426757</td>\n",
              "    </tr>\n",
              "  </tbody>\n",
              "</table>\n",
              "</div>\n",
              "      <button class=\"colab-df-convert\" onclick=\"convertToInteractive('df-83e9ff3f-0c91-4af7-8f5b-ce8513a4bda2')\"\n",
              "              title=\"Convert this dataframe to an interactive table.\"\n",
              "              style=\"display:none;\">\n",
              "        \n",
              "  <svg xmlns=\"http://www.w3.org/2000/svg\" height=\"24px\"viewBox=\"0 0 24 24\"\n",
              "       width=\"24px\">\n",
              "    <path d=\"M0 0h24v24H0V0z\" fill=\"none\"/>\n",
              "    <path d=\"M18.56 5.44l.94 2.06.94-2.06 2.06-.94-2.06-.94-.94-2.06-.94 2.06-2.06.94zm-11 1L8.5 8.5l.94-2.06 2.06-.94-2.06-.94L8.5 2.5l-.94 2.06-2.06.94zm10 10l.94 2.06.94-2.06 2.06-.94-2.06-.94-.94-2.06-.94 2.06-2.06.94z\"/><path d=\"M17.41 7.96l-1.37-1.37c-.4-.4-.92-.59-1.43-.59-.52 0-1.04.2-1.43.59L10.3 9.45l-7.72 7.72c-.78.78-.78 2.05 0 2.83L4 21.41c.39.39.9.59 1.41.59.51 0 1.02-.2 1.41-.59l7.78-7.78 2.81-2.81c.8-.78.8-2.07 0-2.86zM5.41 20L4 18.59l7.72-7.72 1.47 1.35L5.41 20z\"/>\n",
              "  </svg>\n",
              "      </button>\n",
              "      \n",
              "  <style>\n",
              "    .colab-df-container {\n",
              "      display:flex;\n",
              "      flex-wrap:wrap;\n",
              "      gap: 12px;\n",
              "    }\n",
              "\n",
              "    .colab-df-convert {\n",
              "      background-color: #E8F0FE;\n",
              "      border: none;\n",
              "      border-radius: 50%;\n",
              "      cursor: pointer;\n",
              "      display: none;\n",
              "      fill: #1967D2;\n",
              "      height: 32px;\n",
              "      padding: 0 0 0 0;\n",
              "      width: 32px;\n",
              "    }\n",
              "\n",
              "    .colab-df-convert:hover {\n",
              "      background-color: #E2EBFA;\n",
              "      box-shadow: 0px 1px 2px rgba(60, 64, 67, 0.3), 0px 1px 3px 1px rgba(60, 64, 67, 0.15);\n",
              "      fill: #174EA6;\n",
              "    }\n",
              "\n",
              "    [theme=dark] .colab-df-convert {\n",
              "      background-color: #3B4455;\n",
              "      fill: #D2E3FC;\n",
              "    }\n",
              "\n",
              "    [theme=dark] .colab-df-convert:hover {\n",
              "      background-color: #434B5C;\n",
              "      box-shadow: 0px 1px 3px 1px rgba(0, 0, 0, 0.15);\n",
              "      filter: drop-shadow(0px 1px 2px rgba(0, 0, 0, 0.3));\n",
              "      fill: #FFFFFF;\n",
              "    }\n",
              "  </style>\n",
              "\n",
              "      <script>\n",
              "        const buttonEl =\n",
              "          document.querySelector('#df-83e9ff3f-0c91-4af7-8f5b-ce8513a4bda2 button.colab-df-convert');\n",
              "        buttonEl.style.display =\n",
              "          google.colab.kernel.accessAllowed ? 'block' : 'none';\n",
              "\n",
              "        async function convertToInteractive(key) {\n",
              "          const element = document.querySelector('#df-83e9ff3f-0c91-4af7-8f5b-ce8513a4bda2');\n",
              "          const dataTable =\n",
              "            await google.colab.kernel.invokeFunction('convertToInteractive',\n",
              "                                                     [key], {});\n",
              "          if (!dataTable) return;\n",
              "\n",
              "          const docLinkHtml = 'Like what you see? Visit the ' +\n",
              "            '<a target=\"_blank\" href=https://colab.research.google.com/notebooks/data_table.ipynb>data table notebook</a>'\n",
              "            + ' to learn more about interactive tables.';\n",
              "          element.innerHTML = '';\n",
              "          dataTable['output_type'] = 'display_data';\n",
              "          await google.colab.output.renderOutput(dataTable, element);\n",
              "          const docLink = document.createElement('div');\n",
              "          docLink.innerHTML = docLinkHtml;\n",
              "          element.appendChild(docLink);\n",
              "        }\n",
              "      </script>\n",
              "    </div>\n",
              "  </div>\n",
              "  "
            ]
          },
          "metadata": {},
          "execution_count": 13
        }
      ]
    },
    {
      "cell_type": "code",
      "source": [
        "# split data into training data and test data\n",
        "training_data, testing_data = train_test_split(df, test_size=0.2, random_state=25)"
      ],
      "metadata": {
        "id": "tJCIPliovBnM"
      },
      "execution_count": null,
      "outputs": []
    },
    {
      "cell_type": "markdown",
      "source": [
        "# Simple Data Inspection and Exploration"
      ],
      "metadata": {
        "id": "wrRLC-Aoogdh"
      }
    },
    {
      "cell_type": "code",
      "source": [
        "# check email_train data structure\n",
        "training_data.info()"
      ],
      "metadata": {
        "id": "UnAQ8rlkqI3W",
        "colab": {
          "base_uri": "https://localhost:8080/"
        },
        "outputId": "fe4cdaa5-5007-4189-f6ed-351b3ea15f94"
      },
      "execution_count": null,
      "outputs": [
        {
          "output_type": "stream",
          "name": "stdout",
          "text": [
            "<class 'pandas.core.frame.DataFrame'>\n",
            "Int64Index: 8312 entries, 10379 to 8510\n",
            "Data columns (total 13 columns):\n",
            " #   Column                  Non-Null Count  Dtype  \n",
            "---  ------                  --------------  -----  \n",
            " 0   schoolid                8312 non-null   int64  \n",
            " 1   intervention            8312 non-null   int64  \n",
            " 2   achievement_score       8312 non-null   float64\n",
            " 3   success_expect          8312 non-null   int64  \n",
            " 4   ethnicity               8312 non-null   int64  \n",
            " 5   gender                  8312 non-null   int64  \n",
            " 6   frst_in_family          8312 non-null   int64  \n",
            " 7   school_urbanicity       8312 non-null   int64  \n",
            " 8   school_mindset          8312 non-null   float64\n",
            " 9   school_achievement      8312 non-null   float64\n",
            " 10  school_ethnic_minority  8312 non-null   float64\n",
            " 11  school_poverty          8312 non-null   float64\n",
            " 12  school_size             8312 non-null   float64\n",
            "dtypes: float64(6), int64(7)\n",
            "memory usage: 909.1 KB\n"
          ]
        }
      ]
    },
    {
      "cell_type": "code",
      "source": [
        "testing_data.info()"
      ],
      "metadata": {
        "colab": {
          "base_uri": "https://localhost:8080/"
        },
        "id": "sbPH-YWIvmRw",
        "outputId": "a20015bb-cedc-46de-c74b-c09e46559360"
      },
      "execution_count": null,
      "outputs": [
        {
          "output_type": "stream",
          "name": "stdout",
          "text": [
            "<class 'pandas.core.frame.DataFrame'>\n",
            "Int64Index: 2079 entries, 4429 to 1668\n",
            "Data columns (total 13 columns):\n",
            " #   Column                  Non-Null Count  Dtype  \n",
            "---  ------                  --------------  -----  \n",
            " 0   schoolid                2079 non-null   int64  \n",
            " 1   intervention            2079 non-null   int64  \n",
            " 2   achievement_score       2079 non-null   float64\n",
            " 3   success_expect          2079 non-null   int64  \n",
            " 4   ethnicity               2079 non-null   int64  \n",
            " 5   gender                  2079 non-null   int64  \n",
            " 6   frst_in_family          2079 non-null   int64  \n",
            " 7   school_urbanicity       2079 non-null   int64  \n",
            " 8   school_mindset          2079 non-null   float64\n",
            " 9   school_achievement      2079 non-null   float64\n",
            " 10  school_ethnic_minority  2079 non-null   float64\n",
            " 11  school_poverty          2079 non-null   float64\n",
            " 12  school_size             2079 non-null   float64\n",
            "dtypes: float64(6), int64(7)\n",
            "memory usage: 227.4 KB\n"
          ]
        }
      ]
    },
    {
      "cell_type": "markdown",
      "source": [
        "# Double Machine Learning"
      ],
      "metadata": {
        "id": "8r6d_D7nqWwX"
      }
    },
    {
      "cell_type": "markdown",
      "source": [
        "Alasan kenapa saya menggunakan Double Machine Learning adalah karena lebih jelas dalam memapaparkan data dalam bentuk yang mana outcome, treatment dan covariates"
      ],
      "metadata": {
        "id": "qNjVuaysYw36"
      }
    },
    {
      "cell_type": "markdown",
      "source": [
        "## Data Setup"
      ],
      "metadata": {
        "id": "W7Yv4xSSrH2l"
      }
    },
    {
      "cell_type": "code",
      "source": [
        "# outcome\n",
        "y = \"school_achievement\"\n",
        "# treatment\n",
        "T = \"intervention\"\n",
        "# covariates\n",
        "X = ['achievement_score',\t'success_expect', 'school_mindset']"
      ],
      "metadata": {
        "id": "mGgBGnIfrFai"
      },
      "execution_count": null,
      "outputs": []
    },
    {
      "cell_type": "markdown",
      "source": [
        "- School Achievement saya pilih sebagai outcome karena variable tersebut yang akan terkena dapat dari treatment seminar atau intervention. \n",
        "- Intervention saya pilih karena variabel ini yang menjadi treatment atau variabel yang ingin di observasi atau dilihat efeknya\n",
        "- Covariates berikut: ['achievement_score',\t'success_expect', 'school_mindset'] saya pilih karena variabel ini yang memiliki corelasi yang masuk akal "
      ],
      "metadata": {
        "id": "mChZBad-zsnk"
      }
    },
    {
      "cell_type": "code",
      "source": [
        "training_data[y]"
      ],
      "metadata": {
        "id": "QtypWdQ9rYex",
        "colab": {
          "base_uri": "https://localhost:8080/"
        },
        "outputId": "09d73031-a499-4b33-d797-f17fae12382e"
      },
      "execution_count": null,
      "outputs": [
        {
          "output_type": "execute_result",
          "data": {
            "text/plain": [
              "10379   -1.129889\n",
              "10147   -0.122386\n",
              "132     -0.449943\n",
              "2155    -0.588563\n",
              "9286    -0.753309\n",
              "           ...   \n",
              "8447    -0.699595\n",
              "2934    -0.180831\n",
              "10383   -1.129889\n",
              "6618    -0.287379\n",
              "8510    -0.019039\n",
              "Name: school_achievement, Length: 8312, dtype: float64"
            ]
          },
          "metadata": {},
          "execution_count": 15
        }
      ]
    },
    {
      "cell_type": "code",
      "source": [
        "training_data[T]"
      ],
      "metadata": {
        "id": "5IsstdMprqIp",
        "colab": {
          "base_uri": "https://localhost:8080/"
        },
        "outputId": "5a462330-9772-45d5-e4a8-2e09ca87a0d1"
      },
      "execution_count": null,
      "outputs": [
        {
          "output_type": "execute_result",
          "data": {
            "text/plain": [
              "10379    0\n",
              "10147    0\n",
              "132      1\n",
              "2155     1\n",
              "9286     0\n",
              "        ..\n",
              "8447     0\n",
              "2934     1\n",
              "10383    0\n",
              "6618     0\n",
              "8510     0\n",
              "Name: intervention, Length: 8312, dtype: int64"
            ]
          },
          "metadata": {},
          "execution_count": 16
        }
      ]
    },
    {
      "cell_type": "code",
      "source": [
        "training_data[X]"
      ],
      "metadata": {
        "id": "se3IHymKrs8l",
        "colab": {
          "base_uri": "https://localhost:8080/",
          "height": 424
        },
        "outputId": "6a97a805-5f86-4fa5-cbf4-b755b5e4d5b3"
      },
      "execution_count": null,
      "outputs": [
        {
          "output_type": "execute_result",
          "data": {
            "text/plain": [
              "       achievement_score  success_expect  school_mindset\n",
              "10379          -0.838257               3        1.185986\n",
              "10147           1.870123               5        0.208298\n",
              "132            -1.400742               3        0.983982\n",
              "2155           -0.189982               5       -0.283624\n",
              "9286           -0.099046               5        0.230570\n",
              "...                  ...             ...             ...\n",
              "8447            0.283091               5        1.235106\n",
              "2934           -0.247472               6        0.400799\n",
              "10383           0.233190               5        1.185986\n",
              "6618           -1.775131               2        1.099419\n",
              "8510            0.451627               7       -0.996042\n",
              "\n",
              "[8312 rows x 3 columns]"
            ],
            "text/html": [
              "\n",
              "  <div id=\"df-716db055-f1fe-453a-b57d-bca815434fdd\">\n",
              "    <div class=\"colab-df-container\">\n",
              "      <div>\n",
              "<style scoped>\n",
              "    .dataframe tbody tr th:only-of-type {\n",
              "        vertical-align: middle;\n",
              "    }\n",
              "\n",
              "    .dataframe tbody tr th {\n",
              "        vertical-align: top;\n",
              "    }\n",
              "\n",
              "    .dataframe thead th {\n",
              "        text-align: right;\n",
              "    }\n",
              "</style>\n",
              "<table border=\"1\" class=\"dataframe\">\n",
              "  <thead>\n",
              "    <tr style=\"text-align: right;\">\n",
              "      <th></th>\n",
              "      <th>achievement_score</th>\n",
              "      <th>success_expect</th>\n",
              "      <th>school_mindset</th>\n",
              "    </tr>\n",
              "  </thead>\n",
              "  <tbody>\n",
              "    <tr>\n",
              "      <th>10379</th>\n",
              "      <td>-0.838257</td>\n",
              "      <td>3</td>\n",
              "      <td>1.185986</td>\n",
              "    </tr>\n",
              "    <tr>\n",
              "      <th>10147</th>\n",
              "      <td>1.870123</td>\n",
              "      <td>5</td>\n",
              "      <td>0.208298</td>\n",
              "    </tr>\n",
              "    <tr>\n",
              "      <th>132</th>\n",
              "      <td>-1.400742</td>\n",
              "      <td>3</td>\n",
              "      <td>0.983982</td>\n",
              "    </tr>\n",
              "    <tr>\n",
              "      <th>2155</th>\n",
              "      <td>-0.189982</td>\n",
              "      <td>5</td>\n",
              "      <td>-0.283624</td>\n",
              "    </tr>\n",
              "    <tr>\n",
              "      <th>9286</th>\n",
              "      <td>-0.099046</td>\n",
              "      <td>5</td>\n",
              "      <td>0.230570</td>\n",
              "    </tr>\n",
              "    <tr>\n",
              "      <th>...</th>\n",
              "      <td>...</td>\n",
              "      <td>...</td>\n",
              "      <td>...</td>\n",
              "    </tr>\n",
              "    <tr>\n",
              "      <th>8447</th>\n",
              "      <td>0.283091</td>\n",
              "      <td>5</td>\n",
              "      <td>1.235106</td>\n",
              "    </tr>\n",
              "    <tr>\n",
              "      <th>2934</th>\n",
              "      <td>-0.247472</td>\n",
              "      <td>6</td>\n",
              "      <td>0.400799</td>\n",
              "    </tr>\n",
              "    <tr>\n",
              "      <th>10383</th>\n",
              "      <td>0.233190</td>\n",
              "      <td>5</td>\n",
              "      <td>1.185986</td>\n",
              "    </tr>\n",
              "    <tr>\n",
              "      <th>6618</th>\n",
              "      <td>-1.775131</td>\n",
              "      <td>2</td>\n",
              "      <td>1.099419</td>\n",
              "    </tr>\n",
              "    <tr>\n",
              "      <th>8510</th>\n",
              "      <td>0.451627</td>\n",
              "      <td>7</td>\n",
              "      <td>-0.996042</td>\n",
              "    </tr>\n",
              "  </tbody>\n",
              "</table>\n",
              "<p>8312 rows × 3 columns</p>\n",
              "</div>\n",
              "      <button class=\"colab-df-convert\" onclick=\"convertToInteractive('df-716db055-f1fe-453a-b57d-bca815434fdd')\"\n",
              "              title=\"Convert this dataframe to an interactive table.\"\n",
              "              style=\"display:none;\">\n",
              "        \n",
              "  <svg xmlns=\"http://www.w3.org/2000/svg\" height=\"24px\"viewBox=\"0 0 24 24\"\n",
              "       width=\"24px\">\n",
              "    <path d=\"M0 0h24v24H0V0z\" fill=\"none\"/>\n",
              "    <path d=\"M18.56 5.44l.94 2.06.94-2.06 2.06-.94-2.06-.94-.94-2.06-.94 2.06-2.06.94zm-11 1L8.5 8.5l.94-2.06 2.06-.94-2.06-.94L8.5 2.5l-.94 2.06-2.06.94zm10 10l.94 2.06.94-2.06 2.06-.94-2.06-.94-.94-2.06-.94 2.06-2.06.94z\"/><path d=\"M17.41 7.96l-1.37-1.37c-.4-.4-.92-.59-1.43-.59-.52 0-1.04.2-1.43.59L10.3 9.45l-7.72 7.72c-.78.78-.78 2.05 0 2.83L4 21.41c.39.39.9.59 1.41.59.51 0 1.02-.2 1.41-.59l7.78-7.78 2.81-2.81c.8-.78.8-2.07 0-2.86zM5.41 20L4 18.59l7.72-7.72 1.47 1.35L5.41 20z\"/>\n",
              "  </svg>\n",
              "      </button>\n",
              "      \n",
              "  <style>\n",
              "    .colab-df-container {\n",
              "      display:flex;\n",
              "      flex-wrap:wrap;\n",
              "      gap: 12px;\n",
              "    }\n",
              "\n",
              "    .colab-df-convert {\n",
              "      background-color: #E8F0FE;\n",
              "      border: none;\n",
              "      border-radius: 50%;\n",
              "      cursor: pointer;\n",
              "      display: none;\n",
              "      fill: #1967D2;\n",
              "      height: 32px;\n",
              "      padding: 0 0 0 0;\n",
              "      width: 32px;\n",
              "    }\n",
              "\n",
              "    .colab-df-convert:hover {\n",
              "      background-color: #E2EBFA;\n",
              "      box-shadow: 0px 1px 2px rgba(60, 64, 67, 0.3), 0px 1px 3px 1px rgba(60, 64, 67, 0.15);\n",
              "      fill: #174EA6;\n",
              "    }\n",
              "\n",
              "    [theme=dark] .colab-df-convert {\n",
              "      background-color: #3B4455;\n",
              "      fill: #D2E3FC;\n",
              "    }\n",
              "\n",
              "    [theme=dark] .colab-df-convert:hover {\n",
              "      background-color: #434B5C;\n",
              "      box-shadow: 0px 1px 3px 1px rgba(0, 0, 0, 0.15);\n",
              "      filter: drop-shadow(0px 1px 2px rgba(0, 0, 0, 0.3));\n",
              "      fill: #FFFFFF;\n",
              "    }\n",
              "  </style>\n",
              "\n",
              "      <script>\n",
              "        const buttonEl =\n",
              "          document.querySelector('#df-716db055-f1fe-453a-b57d-bca815434fdd button.colab-df-convert');\n",
              "        buttonEl.style.display =\n",
              "          google.colab.kernel.accessAllowed ? 'block' : 'none';\n",
              "\n",
              "        async function convertToInteractive(key) {\n",
              "          const element = document.querySelector('#df-716db055-f1fe-453a-b57d-bca815434fdd');\n",
              "          const dataTable =\n",
              "            await google.colab.kernel.invokeFunction('convertToInteractive',\n",
              "                                                     [key], {});\n",
              "          if (!dataTable) return;\n",
              "\n",
              "          const docLinkHtml = 'Like what you see? Visit the ' +\n",
              "            '<a target=\"_blank\" href=https://colab.research.google.com/notebooks/data_table.ipynb>data table notebook</a>'\n",
              "            + ' to learn more about interactive tables.';\n",
              "          element.innerHTML = '';\n",
              "          dataTable['output_type'] = 'display_data';\n",
              "          await google.colab.output.renderOutput(dataTable, element);\n",
              "          const docLink = document.createElement('div');\n",
              "          docLink.innerHTML = docLinkHtml;\n",
              "          element.appendChild(docLink);\n",
              "        }\n",
              "      </script>\n",
              "    </div>\n",
              "  </div>\n",
              "  "
            ]
          },
          "metadata": {},
          "execution_count": 17
        }
      ]
    },
    {
      "cell_type": "markdown",
      "source": [
        "## Modeling"
      ],
      "metadata": {
        "id": "Uc727yURrxiI"
      }
    },
    {
      "cell_type": "code",
      "source": [
        "# define DML Object\n",
        "dml_est = DML(\n",
        "    model_y = GradientBoostingRegressor(n_estimators=100, random_state = 1000),\n",
        "    model_t = GradientBoostingRegressor(n_estimators=100, random_state = 1000),\n",
        "    model_final = LinearRegression(fit_intercept=False),\n",
        "    random_state = 1000\n",
        ")"
      ],
      "metadata": {
        "id": "yWlomPcSrzJD"
      },
      "execution_count": null,
      "outputs": []
    },
    {
      "cell_type": "code",
      "source": [
        "# fit estimator to train data\n",
        "np.random.seed(1000)\n",
        "dml_est.fit(training_data[y], T = training_data[T], X = training_data[X], inference=\"bootstrap\")"
      ],
      "metadata": {
        "id": "QSsosS6WsIbV",
        "colab": {
          "base_uri": "https://localhost:8080/"
        },
        "outputId": "cc3981f3-8d5f-47a6-8ea5-7f6e300f1a58"
      },
      "execution_count": null,
      "outputs": [
        {
          "output_type": "execute_result",
          "data": {
            "text/plain": [
              "<econml.dml.dml.DML at 0x7fb977e132d0>"
            ]
          },
          "metadata": {},
          "execution_count": 19
        }
      ]
    },
    {
      "cell_type": "code",
      "source": [
        "dml_est.summary()"
      ],
      "metadata": {
        "id": "CgcG_1gzuWmV",
        "colab": {
          "base_uri": "https://localhost:8080/",
          "height": 340
        },
        "outputId": "d54d6504-6e51-438c-83f5-e6afbde38857"
      },
      "execution_count": null,
      "outputs": [
        {
          "output_type": "execute_result",
          "data": {
            "text/plain": [
              "<class 'econml.utilities.Summary'>\n",
              "\"\"\"\n",
              "                          Coefficient Results                          \n",
              "=======================================================================\n",
              "                  point_estimate stderr zstat  pvalue ci_lower ci_upper\n",
              "-----------------------------------------------------------------------\n",
              "achievement_score          0.012  0.009  1.386   0.06   -0.004    0.026\n",
              "success_expect            -0.007  0.009 -0.855   0.16   -0.021    0.013\n",
              "school_mindset            -0.004  0.005 -0.734   0.23   -0.012    0.005\n",
              "                       CATE Intercept Results                      \n",
              "===================================================================\n",
              "               point_estimate stderr zstat pvalue ci_lower ci_upper\n",
              "-------------------------------------------------------------------\n",
              "cate_intercept          0.039  0.047 0.834   0.19   -0.074    0.108\n",
              "-------------------------------------------------------------------\n",
              "\n",
              "<sub>A linear parametric conditional average treatment effect (CATE) model was fitted:\n",
              "$Y = \\Theta(X)\\cdot T + g(X, W) + \\epsilon$\n",
              "where for every outcome $i$ and treatment $j$ the CATE $\\Theta_{ij}(X)$ has the form:\n",
              "$\\Theta_{ij}(X) = \\phi(X)' coef_{ij} + cate\\_intercept_{ij}$\n",
              "where $\\phi(X)$ is the output of the `featurizer` or $X$ if `featurizer`=None. Coefficient Results table portrays the $coef_{ij}$ parameter vector for each outcome $i$ and treatment $j$. Intercept Results table portrays the $cate\\_intercept_{ij}$ parameter.</sub>\n",
              "\"\"\""
            ],
            "text/html": [
              "<table class=\"simpletable\">\n",
              "<caption>Coefficient Results</caption>\n",
              "<tr>\n",
              "          <td></td>          <th>point_estimate</th> <th>stderr</th>  <th>zstat</th> <th>pvalue</th> <th>ci_lower</th> <th>ci_upper</th>\n",
              "</tr>\n",
              "<tr>\n",
              "  <th>achievement_score</th>      <td>0.012</td>      <td>0.009</td>  <td>1.386</td>  <td>0.06</td>   <td>-0.004</td>    <td>0.026</td> \n",
              "</tr>\n",
              "<tr>\n",
              "  <th>success_expect</th>        <td>-0.007</td>      <td>0.009</td> <td>-0.855</td>  <td>0.16</td>   <td>-0.021</td>    <td>0.013</td> \n",
              "</tr>\n",
              "<tr>\n",
              "  <th>school_mindset</th>        <td>-0.004</td>      <td>0.005</td> <td>-0.734</td>  <td>0.23</td>   <td>-0.012</td>    <td>0.005</td> \n",
              "</tr>\n",
              "</table>\n",
              "<table class=\"simpletable\">\n",
              "<caption>CATE Intercept Results</caption>\n",
              "<tr>\n",
              "         <td></td>        <th>point_estimate</th> <th>stderr</th> <th>zstat</th> <th>pvalue</th> <th>ci_lower</th> <th>ci_upper</th>\n",
              "</tr>\n",
              "<tr>\n",
              "  <th>cate_intercept</th>      <td>0.039</td>      <td>0.047</td> <td>0.834</td>  <td>0.19</td>   <td>-0.074</td>    <td>0.108</td> \n",
              "</tr>\n",
              "</table><br/><br/><sub>A linear parametric conditional average treatment effect (CATE) model was fitted:<br/>$Y = \\Theta(X)\\cdot T + g(X, W) + \\epsilon$<br/>where for every outcome $i$ and treatment $j$ the CATE $\\Theta_{ij}(X)$ has the form:<br/>$\\Theta_{ij}(X) = \\phi(X)' coef_{ij} + cate\\_intercept_{ij}$<br/>where $\\phi(X)$ is the output of the `featurizer` or $X$ if `featurizer`=None. Coefficient Results table portrays the $coef_{ij}$ parameter vector for each outcome $i$ and treatment $j$. Intercept Results table portrays the $cate\\_intercept_{ij}$ parameter.</sub>"
            ]
          },
          "metadata": {},
          "execution_count": 20
        }
      ]
    },
    {
      "cell_type": "markdown",
      "source": [
        "Based on the result we can interpret the model:\n",
        "- Model kurang bagus karena nilai **pvalue ** diatas **0.05**\n",
        "- Achievement score punya efek postive yang berarti jika nilai achievement value meningkat maka school schievement juga meningkat"
      ],
      "metadata": {
        "id": "jB3DYkq8vGn5"
      }
    },
    {
      "cell_type": "code",
      "source": [
        "# Get treatment effect and its confidence interval\n",
        "te_pred = dml_est.effect(training_data[X])"
      ],
      "metadata": {
        "id": "XJ763Dlps7rD"
      },
      "execution_count": null,
      "outputs": []
    },
    {
      "cell_type": "code",
      "source": [
        "# Measure price effect\n",
        "np.mean(te_pred)"
      ],
      "metadata": {
        "id": "blFtamdHyft8",
        "colab": {
          "base_uri": "https://localhost:8080/",
          "height": 37
        },
        "outputId": "a6ed1064-f9d7-4e6b-9df0-3d565799f410"
      },
      "execution_count": null,
      "outputs": [
        {
          "output_type": "execute_result",
          "data": {
            "text/plain": [
              "-0.00012224495840720844"
            ],
            "image/png": "[encoded data removed]",
            "text/latex": "$\\displaystyle -0.000122244958407208$"
          },
          "metadata": {},
          "execution_count": 22
        }
      ]
    },
    {
      "cell_type": "code",
      "source": [
        "# check treatment effect distribution\n",
        "sns.boxplot(x = te_pred).set_title(\"Treatment Effect Distribution by using DML\");"
      ],
      "metadata": {
        "id": "K3b5Kmq0D2Wv",
        "colab": {
          "base_uri": "https://localhost:8080/",
          "height": 281
        },
        "outputId": "0a48cf85-ca79-40e1-8ddb-f2f1ab358bb5"
      },
      "execution_count": null,
      "outputs": [
        {
          "output_type": "display_data",
          "data": {
            "text/plain": [
              "<Figure size 432x288 with 1 Axes>"
            ],
            "image/png": "[encoded data removed]"
          },
          "metadata": {
            "needs_background": "light"
          }
        }
      ]
    }
  ]
}