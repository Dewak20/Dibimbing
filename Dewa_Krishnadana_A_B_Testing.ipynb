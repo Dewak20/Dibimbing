{
  "nbformat": 4,
  "nbformat_minor": 0,
  "metadata": {
    "colab": {
      "provenance": [],
      "collapsed_sections": [
        "Vu2FMb8db0BB",
        "wMM8Hby2eSEG",
        "2iF_WRGQekGu",
        "p4ILWPmbjh_K",
        "Ykv3PgIGpZfa",
        "bASAt15X0_cs",
        "ZLmfIxU36DlS",
        "khCsvP4B8Lqf"
      ],
      "include_colab_link": true
    },
    "kernelspec": {
      "name": "python3",
      "display_name": "Python 3"
    },
    "language_info": {
      "name": "python"
    }
  },
  "cells": [
    {
      "cell_type": "markdown",
      "metadata": {
        "id": "view-in-github",
        "colab_type": "text"
      },
      "source": [
        "<a href=\"https://colab.research.google.com/github/Dewak20/Dibimbing/blob/main/Dewa_Krishnadana_A_B_Testing.ipynb\" target=\"_parent\"><img src=\"https://colab.research.google.com/assets/colab-badge.svg\" alt=\"Open In Colab\"/></a>"
      ]
    },
    {
      "cell_type": "markdown",
      "source": [
        "# Install and Load Packages"
      ],
      "metadata": {
        "id": "3clqhTySXITG"
      }
    },
    {
      "cell_type": "code",
      "source": [
        "import numpy as np\n",
        "import pandas as pd\n",
        "import matplotlib.pyplot as plt\n",
        "import seaborn as sns\n",
        "\n",
        "from statsmodels.stats.power import TTestPower, TTestIndPower, GofChisquarePower\n",
        "from statsmodels.stats.proportion import proportions_chisquare\n",
        "from statsmodels.stats.weightstats import ttest_ind\n",
        "import statsmodels.api as sm\n",
        "\n",
        "import scipy.stats"
      ],
      "metadata": {
        "id": "5rPrTYWrXPJ9"
      },
      "execution_count": 1,
      "outputs": []
    },
    {
      "cell_type": "markdown",
      "source": [
        "# Load Dataset"
      ],
      "metadata": {
        "id": "BBATVim3XpRX"
      }
    },
    {
      "cell_type": "code",
      "source": [
        "raw_data = pd.read_csv(\"https://raw.githubusercontent.com/hadimaster65555/dataset_for_teaching/main/dataset/marketing_campaign_experiment/marketing-clean.csv\")"
      ],
      "metadata": {
        "id": "krwQzxDaXqdk"
      },
      "execution_count": 2,
      "outputs": []
    },
    {
      "cell_type": "code",
      "source": [
        "raw_data.head(10)"
      ],
      "metadata": {
        "colab": {
          "base_uri": "https://localhost:8080/",
          "height": 548
        },
        "id": "3v8ROGqeoA8b",
        "outputId": "024ffd7d-0d61-4b47-e62f-3207e4926ac9"
      },
      "execution_count": 3,
      "outputs": [
        {
          "output_type": "execute_result",
          "data": {
            "text/plain": [
              "      user_id date_served marketing_channel          variant  converted  \\\n",
              "0  a100000040      1/1/18         House Ads  personalization       True   \n",
              "1  a100000041      1/1/18         House Ads  personalization       True   \n",
              "2  a100000042      1/1/18         House Ads  personalization       True   \n",
              "3  a100000043      1/1/18         House Ads  personalization       True   \n",
              "4  a100000044      1/1/18         House Ads  personalization       True   \n",
              "5  a100000045      1/2/18         House Ads  personalization       True   \n",
              "6  a100000046      1/2/18         House Ads  personalization       True   \n",
              "7  a100000047      1/2/18         House Ads  personalization       True   \n",
              "8  a100000048      1/2/18         House Ads  personalization       True   \n",
              "9  a100000059      1/2/18         House Ads  personalization       True   \n",
              "\n",
              "  language_displayed language_preferred    age_group date_subscribed  \\\n",
              "0            English            English  19-24 years          1/1/18   \n",
              "1             Arabic             Arabic  24-30 years          1/1/18   \n",
              "2            English            English   0-18 years          1/1/18   \n",
              "3            English            English  19-24 years          1/1/18   \n",
              "4             Arabic             Arabic  24-30 years          1/1/18   \n",
              "5            English            English   0-18 years          1/2/18   \n",
              "6            English            English  19-24 years          1/2/18   \n",
              "7            English            English  24-30 years          1/2/18   \n",
              "8             German             German   0-18 years          1/2/18   \n",
              "9            English            English  19-24 years          1/2/18   \n",
              "\n",
              "  date_canceled subscribing_channel  is_retained  conversion  \n",
              "0       1/18/18           House Ads        False           1  \n",
              "1       2/22/18           House Ads        False           1  \n",
              "2        3/9/18           House Ads        False           1  \n",
              "3       2/18/18           House Ads        False           1  \n",
              "4        3/3/18           House Ads        False           1  \n",
              "5        2/4/18           House Ads        False           1  \n",
              "6        1/9/18           House Ads        False           1  \n",
              "7        2/4/18           House Ads        False           1  \n",
              "8       1/21/18           House Ads        False           1  \n",
              "9       2/19/18           House Ads        False           1  "
            ],
            "text/html": [
              "\n",
              "  <div id=\"df-1f9b5171-ea66-49f1-abc1-337bea566737\">\n",
              "    <div class=\"colab-df-container\">\n",
              "      <div>\n",
              "<style scoped>\n",
              "    .dataframe tbody tr th:only-of-type {\n",
              "        vertical-align: middle;\n",
              "    }\n",
              "\n",
              "    .dataframe tbody tr th {\n",
              "        vertical-align: top;\n",
              "    }\n",
              "\n",
              "    .dataframe thead th {\n",
              "        text-align: right;\n",
              "    }\n",
              "</style>\n",
              "<table border=\"1\" class=\"dataframe\">\n",
              "  <thead>\n",
              "    <tr style=\"text-align: right;\">\n",
              "      <th></th>\n",
              "      <th>user_id</th>\n",
              "      <th>date_served</th>\n",
              "      <th>marketing_channel</th>\n",
              "      <th>variant</th>\n",
              "      <th>converted</th>\n",
              "      <th>language_displayed</th>\n",
              "      <th>language_preferred</th>\n",
              "      <th>age_group</th>\n",
              "      <th>date_subscribed</th>\n",
              "      <th>date_canceled</th>\n",
              "      <th>subscribing_channel</th>\n",
              "      <th>is_retained</th>\n",
              "      <th>conversion</th>\n",
              "    </tr>\n",
              "  </thead>\n",
              "  <tbody>\n",
              "    <tr>\n",
              "      <th>0</th>\n",
              "      <td>a100000040</td>\n",
              "      <td>1/1/18</td>\n",
              "      <td>House Ads</td>\n",
              "      <td>personalization</td>\n",
              "      <td>True</td>\n",
              "      <td>English</td>\n",
              "      <td>English</td>\n",
              "      <td>19-24 years</td>\n",
              "      <td>1/1/18</td>\n",
              "      <td>1/18/18</td>\n",
              "      <td>House Ads</td>\n",
              "      <td>False</td>\n",
              "      <td>1</td>\n",
              "    </tr>\n",
              "    <tr>\n",
              "      <th>1</th>\n",
              "      <td>a100000041</td>\n",
              "      <td>1/1/18</td>\n",
              "      <td>House Ads</td>\n",
              "      <td>personalization</td>\n",
              "      <td>True</td>\n",
              "      <td>Arabic</td>\n",
              "      <td>Arabic</td>\n",
              "      <td>24-30 years</td>\n",
              "      <td>1/1/18</td>\n",
              "      <td>2/22/18</td>\n",
              "      <td>House Ads</td>\n",
              "      <td>False</td>\n",
              "      <td>1</td>\n",
              "    </tr>\n",
              "    <tr>\n",
              "      <th>2</th>\n",
              "      <td>a100000042</td>\n",
              "      <td>1/1/18</td>\n",
              "      <td>House Ads</td>\n",
              "      <td>personalization</td>\n",
              "      <td>True</td>\n",
              "      <td>English</td>\n",
              "      <td>English</td>\n",
              "      <td>0-18 years</td>\n",
              "      <td>1/1/18</td>\n",
              "      <td>3/9/18</td>\n",
              "      <td>House Ads</td>\n",
              "      <td>False</td>\n",
              "      <td>1</td>\n",
              "    </tr>\n",
              "    <tr>\n",
              "      <th>3</th>\n",
              "      <td>a100000043</td>\n",
              "      <td>1/1/18</td>\n",
              "      <td>House Ads</td>\n",
              "      <td>personalization</td>\n",
              "      <td>True</td>\n",
              "      <td>English</td>\n",
              "      <td>English</td>\n",
              "      <td>19-24 years</td>\n",
              "      <td>1/1/18</td>\n",
              "      <td>2/18/18</td>\n",
              "      <td>House Ads</td>\n",
              "      <td>False</td>\n",
              "      <td>1</td>\n",
              "    </tr>\n",
              "    <tr>\n",
              "      <th>4</th>\n",
              "      <td>a100000044</td>\n",
              "      <td>1/1/18</td>\n",
              "      <td>House Ads</td>\n",
              "      <td>personalization</td>\n",
              "      <td>True</td>\n",
              "      <td>Arabic</td>\n",
              "      <td>Arabic</td>\n",
              "      <td>24-30 years</td>\n",
              "      <td>1/1/18</td>\n",
              "      <td>3/3/18</td>\n",
              "      <td>House Ads</td>\n",
              "      <td>False</td>\n",
              "      <td>1</td>\n",
              "    </tr>\n",
              "    <tr>\n",
              "      <th>5</th>\n",
              "      <td>a100000045</td>\n",
              "      <td>1/2/18</td>\n",
              "      <td>House Ads</td>\n",
              "      <td>personalization</td>\n",
              "      <td>True</td>\n",
              "      <td>English</td>\n",
              "      <td>English</td>\n",
              "      <td>0-18 years</td>\n",
              "      <td>1/2/18</td>\n",
              "      <td>2/4/18</td>\n",
              "      <td>House Ads</td>\n",
              "      <td>False</td>\n",
              "      <td>1</td>\n",
              "    </tr>\n",
              "    <tr>\n",
              "      <th>6</th>\n",
              "      <td>a100000046</td>\n",
              "      <td>1/2/18</td>\n",
              "      <td>House Ads</td>\n",
              "      <td>personalization</td>\n",
              "      <td>True</td>\n",
              "      <td>English</td>\n",
              "      <td>English</td>\n",
              "      <td>19-24 years</td>\n",
              "      <td>1/2/18</td>\n",
              "      <td>1/9/18</td>\n",
              "      <td>House Ads</td>\n",
              "      <td>False</td>\n",
              "      <td>1</td>\n",
              "    </tr>\n",
              "    <tr>\n",
              "      <th>7</th>\n",
              "      <td>a100000047</td>\n",
              "      <td>1/2/18</td>\n",
              "      <td>House Ads</td>\n",
              "      <td>personalization</td>\n",
              "      <td>True</td>\n",
              "      <td>English</td>\n",
              "      <td>English</td>\n",
              "      <td>24-30 years</td>\n",
              "      <td>1/2/18</td>\n",
              "      <td>2/4/18</td>\n",
              "      <td>House Ads</td>\n",
              "      <td>False</td>\n",
              "      <td>1</td>\n",
              "    </tr>\n",
              "    <tr>\n",
              "      <th>8</th>\n",
              "      <td>a100000048</td>\n",
              "      <td>1/2/18</td>\n",
              "      <td>House Ads</td>\n",
              "      <td>personalization</td>\n",
              "      <td>True</td>\n",
              "      <td>German</td>\n",
              "      <td>German</td>\n",
              "      <td>0-18 years</td>\n",
              "      <td>1/2/18</td>\n",
              "      <td>1/21/18</td>\n",
              "      <td>House Ads</td>\n",
              "      <td>False</td>\n",
              "      <td>1</td>\n",
              "    </tr>\n",
              "    <tr>\n",
              "      <th>9</th>\n",
              "      <td>a100000059</td>\n",
              "      <td>1/2/18</td>\n",
              "      <td>House Ads</td>\n",
              "      <td>personalization</td>\n",
              "      <td>True</td>\n",
              "      <td>English</td>\n",
              "      <td>English</td>\n",
              "      <td>19-24 years</td>\n",
              "      <td>1/2/18</td>\n",
              "      <td>2/19/18</td>\n",
              "      <td>House Ads</td>\n",
              "      <td>False</td>\n",
              "      <td>1</td>\n",
              "    </tr>\n",
              "  </tbody>\n",
              "</table>\n",
              "</div>\n",
              "      <button class=\"colab-df-convert\" onclick=\"convertToInteractive('df-1f9b5171-ea66-49f1-abc1-337bea566737')\"\n",
              "              title=\"Convert this dataframe to an interactive table.\"\n",
              "              style=\"display:none;\">\n",
              "        \n",
              "  <svg xmlns=\"http://www.w3.org/2000/svg\" height=\"24px\"viewBox=\"0 0 24 24\"\n",
              "       width=\"24px\">\n",
              "    <path d=\"M0 0h24v24H0V0z\" fill=\"none\"/>\n",
              "    <path d=\"M18.56 5.44l.94 2.06.94-2.06 2.06-.94-2.06-.94-.94-2.06-.94 2.06-2.06.94zm-11 1L8.5 8.5l.94-2.06 2.06-.94-2.06-.94L8.5 2.5l-.94 2.06-2.06.94zm10 10l.94 2.06.94-2.06 2.06-.94-2.06-.94-.94-2.06-.94 2.06-2.06.94z\"/><path d=\"M17.41 7.96l-1.37-1.37c-.4-.4-.92-.59-1.43-.59-.52 0-1.04.2-1.43.59L10.3 9.45l-7.72 7.72c-.78.78-.78 2.05 0 2.83L4 21.41c.39.39.9.59 1.41.59.51 0 1.02-.2 1.41-.59l7.78-7.78 2.81-2.81c.8-.78.8-2.07 0-2.86zM5.41 20L4 18.59l7.72-7.72 1.47 1.35L5.41 20z\"/>\n",
              "  </svg>\n",
              "      </button>\n",
              "      \n",
              "  <style>\n",
              "    .colab-df-container {\n",
              "      display:flex;\n",
              "      flex-wrap:wrap;\n",
              "      gap: 12px;\n",
              "    }\n",
              "\n",
              "    .colab-df-convert {\n",
              "      background-color: #E8F0FE;\n",
              "      border: none;\n",
              "      border-radius: 50%;\n",
              "      cursor: pointer;\n",
              "      display: none;\n",
              "      fill: #1967D2;\n",
              "      height: 32px;\n",
              "      padding: 0 0 0 0;\n",
              "      width: 32px;\n",
              "    }\n",
              "\n",
              "    .colab-df-convert:hover {\n",
              "      background-color: #E2EBFA;\n",
              "      box-shadow: 0px 1px 2px rgba(60, 64, 67, 0.3), 0px 1px 3px 1px rgba(60, 64, 67, 0.15);\n",
              "      fill: #174EA6;\n",
              "    }\n",
              "\n",
              "    [theme=dark] .colab-df-convert {\n",
              "      background-color: #3B4455;\n",
              "      fill: #D2E3FC;\n",
              "    }\n",
              "\n",
              "    [theme=dark] .colab-df-convert:hover {\n",
              "      background-color: #434B5C;\n",
              "      box-shadow: 0px 1px 3px 1px rgba(0, 0, 0, 0.15);\n",
              "      filter: drop-shadow(0px 1px 2px rgba(0, 0, 0, 0.3));\n",
              "      fill: #FFFFFF;\n",
              "    }\n",
              "  </style>\n",
              "\n",
              "      <script>\n",
              "        const buttonEl =\n",
              "          document.querySelector('#df-1f9b5171-ea66-49f1-abc1-337bea566737 button.colab-df-convert');\n",
              "        buttonEl.style.display =\n",
              "          google.colab.kernel.accessAllowed ? 'block' : 'none';\n",
              "\n",
              "        async function convertToInteractive(key) {\n",
              "          const element = document.querySelector('#df-1f9b5171-ea66-49f1-abc1-337bea566737');\n",
              "          const dataTable =\n",
              "            await google.colab.kernel.invokeFunction('convertToInteractive',\n",
              "                                                     [key], {});\n",
              "          if (!dataTable) return;\n",
              "\n",
              "          const docLinkHtml = 'Like what you see? Visit the ' +\n",
              "            '<a target=\"_blank\" href=https://colab.research.google.com/notebooks/data_table.ipynb>data table notebook</a>'\n",
              "            + ' to learn more about interactive tables.';\n",
              "          element.innerHTML = '';\n",
              "          dataTable['output_type'] = 'display_data';\n",
              "          await google.colab.output.renderOutput(dataTable, element);\n",
              "          const docLink = document.createElement('div');\n",
              "          docLink.innerHTML = docLinkHtml;\n",
              "          element.appendChild(docLink);\n",
              "        }\n",
              "      </script>\n",
              "    </div>\n",
              "  </div>\n",
              "  "
            ]
          },
          "metadata": {},
          "execution_count": 3
        }
      ]
    },
    {
      "cell_type": "markdown",
      "source": [
        "# A/B Testing"
      ],
      "metadata": {
        "id": "QbD81thFePSr"
      }
    },
    {
      "cell_type": "markdown",
      "source": [
        "## Data Inspection and Exploration\n"
      ],
      "metadata": {
        "id": "wMM8Hby2eSEG"
      }
    },
    {
      "cell_type": "markdown",
      "source": [
        "Check null values inside data"
      ],
      "metadata": {
        "id": "QGVhg7MoeVvz"
      }
    },
    {
      "cell_type": "code",
      "source": [
        "raw_data.isna().sum()"
      ],
      "metadata": {
        "colab": {
          "base_uri": "https://localhost:8080/"
        },
        "id": "jqb0jYWieWlT",
        "outputId": "1e6e981c-6326-4b7d-cb6d-d948fb3bb52c"
      },
      "execution_count": 4,
      "outputs": [
        {
          "output_type": "execute_result",
          "data": {
            "text/plain": [
              "user_id                0\n",
              "date_served            0\n",
              "marketing_channel      0\n",
              "variant                0\n",
              "converted              0\n",
              "language_displayed     0\n",
              "language_preferred     0\n",
              "age_group              0\n",
              "date_subscribed        0\n",
              "date_canceled          0\n",
              "subscribing_channel    0\n",
              "is_retained            0\n",
              "conversion             0\n",
              "dtype: int64"
            ]
          },
          "metadata": {},
          "execution_count": 4
        }
      ]
    },
    {
      "cell_type": "code",
      "source": [
        "raw_data.info()"
      ],
      "metadata": {
        "id": "ab_FsiwbwMBg",
        "colab": {
          "base_uri": "https://localhost:8080/"
        },
        "outputId": "5d8d7310-b854-4f9f-a2d6-a0d2d664d62a"
      },
      "execution_count": 5,
      "outputs": [
        {
          "output_type": "stream",
          "name": "stdout",
          "text": [
            "<class 'pandas.core.frame.DataFrame'>\n",
            "RangeIndex: 577 entries, 0 to 576\n",
            "Data columns (total 13 columns):\n",
            " #   Column               Non-Null Count  Dtype \n",
            "---  ------               --------------  ----- \n",
            " 0   user_id              577 non-null    object\n",
            " 1   date_served          577 non-null    object\n",
            " 2   marketing_channel    577 non-null    object\n",
            " 3   variant              577 non-null    object\n",
            " 4   converted            577 non-null    bool  \n",
            " 5   language_displayed   577 non-null    object\n",
            " 6   language_preferred   577 non-null    object\n",
            " 7   age_group            577 non-null    object\n",
            " 8   date_subscribed      577 non-null    object\n",
            " 9   date_canceled        577 non-null    object\n",
            " 10  subscribing_channel  577 non-null    object\n",
            " 11  is_retained          577 non-null    bool  \n",
            " 12  conversion           577 non-null    int64 \n",
            "dtypes: bool(2), int64(1), object(10)\n",
            "memory usage: 50.8+ KB\n"
          ]
        }
      ]
    },
    {
      "cell_type": "markdown",
      "source": [
        "Check number of sample of each variant"
      ],
      "metadata": {
        "id": "pO-41pzkeY3G"
      }
    },
    {
      "cell_type": "markdown",
      "source": [
        "**Jumlah user per marketing channel**\n"
      ],
      "metadata": {
        "id": "76uCj7fGuPbg"
      }
    },
    {
      "cell_type": "code",
      "source": [
        "df1 = raw_data.groupby('marketing_channel')['user_id'].count().reset_index()"
      ],
      "metadata": {
        "id": "Zx9D4xzmqLq6"
      },
      "execution_count": 6,
      "outputs": []
    },
    {
      "cell_type": "code",
      "source": [
        "ax = sns.barplot(x='marketing_channel', y='user_id', data=df1,\n",
        "                 errwidth=0)"
      ],
      "metadata": {
        "id": "UMfvcYbbpxN2",
        "colab": {
          "base_uri": "https://localhost:8080/",
          "height": 280
        },
        "outputId": "2712de18-e6c8-47d3-d212-4e397ab8c695"
      },
      "execution_count": 7,
      "outputs": [
        {
          "output_type": "display_data",
          "data": {
            "text/plain": [
              "<Figure size 432x288 with 1 Axes>"
            ],
            "image/png": "[encoded data removed]"
          },
          "metadata": {
            "needs_background": "light"
          }
        }
      ]
    },
    {
      "cell_type": "markdown",
      "source": [
        "**Jumlah user per variant**\n"
      ],
      "metadata": {
        "id": "ES3g79irufV0"
      }
    },
    {
      "cell_type": "code",
      "source": [
        "df2 = raw_data.groupby(['converted','variant'])['user_id'].count().reset_index()\n",
        "ax = sns.barplot(x='variant', y='user_id', data=df2,\n",
        "                 errwidth=0)"
      ],
      "metadata": {
        "id": "yGIP7HrxuprJ",
        "colab": {
          "base_uri": "https://localhost:8080/",
          "height": 279
        },
        "outputId": "6645223a-d6f3-4cf6-d800-6ffb9f0b63cc"
      },
      "execution_count": 8,
      "outputs": [
        {
          "output_type": "display_data",
          "data": {
            "text/plain": [
              "<Figure size 432x288 with 1 Axes>"
            ],
            "image/png": "[encoded data removed]"
          },
          "metadata": {
            "needs_background": "light"
          }
        }
      ]
    },
    {
      "cell_type": "markdown",
      "source": [
        "**Jumlah user converted per variant**"
      ],
      "metadata": {
        "id": "_rLglunBvIrD"
      }
    },
    {
      "cell_type": "code",
      "source": [
        "sns.catplot(data=df2, x=\"variant\", y=\"user_id\", hue=\"converted\", kind=\"bar\")"
      ],
      "metadata": {
        "id": "gjKlCtA7viP8",
        "colab": {
          "base_uri": "https://localhost:8080/",
          "height": 386
        },
        "outputId": "f4716220-0028-4026-ccf6-070872b7bf1e"
      },
      "execution_count": 9,
      "outputs": [
        {
          "output_type": "execute_result",
          "data": {
            "text/plain": [
              "<seaborn.axisgrid.FacetGrid at 0x7f14a427ea50>"
            ]
          },
          "metadata": {},
          "execution_count": 9
        },
        {
          "output_type": "display_data",
          "data": {
            "text/plain": [
              "<Figure size 421.25x360 with 1 Axes>"
            ],
            "image/png": "[encoded data removed]"
          },
          "metadata": {
            "needs_background": "light"
          }
        }
      ]
    },
    {
      "cell_type": "markdown",
      "source": [
        "**Jumlah user converted per variant dari waktu ke waktu**"
      ],
      "metadata": {
        "id": "UQfZ4PQtx9oC"
      }
    },
    {
      "cell_type": "code",
      "source": [
        "df3 = raw_data.groupby(['converted','date_served','variant'])['user_id'].count().reset_index()"
      ],
      "metadata": {
        "id": "wXgqKTChzGuc"
      },
      "execution_count": 10,
      "outputs": []
    },
    {
      "cell_type": "code",
      "source": [
        "plt.figure(figsize=(20,8))\n",
        "sns.lineplot(\n",
        "    data=df3, x=\"date_served\", y=\"user_id\", hue=\"variant\", style=\"converted\",\n",
        ")"
      ],
      "metadata": {
        "id": "EFpQkXoMzpZY",
        "colab": {
          "base_uri": "https://localhost:8080/",
          "height": 515
        },
        "outputId": "8b6b68d2-0f0b-4c30-88f4-bbd2141a2d3f"
      },
      "execution_count": 11,
      "outputs": [
        {
          "output_type": "execute_result",
          "data": {
            "text/plain": [
              "<matplotlib.axes._subplots.AxesSubplot at 0x7f14a19d3c50>"
            ]
          },
          "metadata": {},
          "execution_count": 11
        },
        {
          "output_type": "display_data",
          "data": {
            "text/plain": [
              "<Figure size 1440x576 with 1 Axes>"
            ],
            "image/png": "[encoded data removed]"
          },
          "metadata": {
            "needs_background": "light"
          }
        }
      ]
    },
    {
      "cell_type": "markdown",
      "source": [
        "**Jumlah user converted per age group**"
      ],
      "metadata": {
        "id": "XWkavuy41pOt"
      }
    },
    {
      "cell_type": "code",
      "source": [
        "df4 = raw_data.groupby(['converted','age_group'])['user_id'].count().reset_index()"
      ],
      "metadata": {
        "id": "XGLL8G_62Z7u"
      },
      "execution_count": 12,
      "outputs": []
    },
    {
      "cell_type": "code",
      "source": [
        "sns.set(rc = {'figure.figsize':(15,8)})\n",
        "sns.catplot(data=df4, x=\"user_id\", y=\"age_group\", hue=\"converted\", kind=\"bar\")"
      ],
      "metadata": {
        "id": "QP1QpnrA10KL",
        "colab": {
          "base_uri": "https://localhost:8080/",
          "height": 382
        },
        "outputId": "714e1ba2-3dee-42ee-a203-82800769bf4d"
      },
      "execution_count": 13,
      "outputs": [
        {
          "output_type": "execute_result",
          "data": {
            "text/plain": [
              "<seaborn.axisgrid.FacetGrid at 0x7f14a18eaa90>"
            ]
          },
          "metadata": {},
          "execution_count": 13
        },
        {
          "output_type": "display_data",
          "data": {
            "text/plain": [
              "<Figure size 429.425x360 with 1 Axes>"
            ],
            "image/png": "[encoded data removed]"
          },
          "metadata": {}
        }
      ]
    },
    {
      "cell_type": "markdown",
      "source": [
        "# Using Linear Models"
      ],
      "metadata": {
        "id": "mRtyzMSI5wY8"
      }
    },
    {
      "cell_type": "markdown",
      "source": [
        "## Using Logistic Regression for Binary Data\n"
      ],
      "metadata": {
        "id": "ZLmfIxU36DlS"
      }
    },
    {
      "cell_type": "markdown",
      "source": [
        "We can use logistic regression when the value to compare is categorical."
      ],
      "metadata": {
        "id": "VJ-mVcwGAmlj"
      }
    },
    {
      "cell_type": "code",
      "source": [
        "# select variant and converted columns\n",
        "data_for_model = raw_data[['variant', 'converted']].copy()\n",
        "# create dummy variables and remove first category ('variant_A')\n",
        "data_for_model = pd.get_dummies(data_for_model, drop_first = True)\n",
        "# add constant\n",
        "data_for_model = sm.add_constant(data_for_model)"
      ],
      "metadata": {
        "id": "wERzSNW_6GyV"
      },
      "execution_count": null,
      "outputs": []
    },
    {
      "cell_type": "code",
      "source": [
        "# check the first 5 rows\n",
        "data_for_model"
      ],
      "metadata": {
        "colab": {
          "base_uri": "https://localhost:8080/",
          "height": 424
        },
        "id": "AKi7wN1p7Gl7",
        "outputId": "f8d35c60-cbc6-4113-9f91-85c92d750068"
      },
      "execution_count": 20,
      "outputs": [
        {
          "output_type": "execute_result",
          "data": {
            "text/plain": [
              "     const  converted  variant_personalization\n",
              "0      1.0       True                        1\n",
              "1      1.0       True                        1\n",
              "2      1.0       True                        1\n",
              "3      1.0       True                        1\n",
              "4      1.0       True                        1\n",
              "..     ...        ...                      ...\n",
              "572    1.0       True                        0\n",
              "573    1.0       True                        0\n",
              "574    1.0       True                        0\n",
              "575    1.0       True                        0\n",
              "576    1.0       True                        0\n",
              "\n",
              "[577 rows x 3 columns]"
            ],
            "text/html": [
              "\n",
              "  <div id=\"df-aaa6e9a7-b055-458d-925f-ddd5d781494b\">\n",
              "    <div class=\"colab-df-container\">\n",
              "      <div>\n",
              "<style scoped>\n",
              "    .dataframe tbody tr th:only-of-type {\n",
              "        vertical-align: middle;\n",
              "    }\n",
              "\n",
              "    .dataframe tbody tr th {\n",
              "        vertical-align: top;\n",
              "    }\n",
              "\n",
              "    .dataframe thead th {\n",
              "        text-align: right;\n",
              "    }\n",
              "</style>\n",
              "<table border=\"1\" class=\"dataframe\">\n",
              "  <thead>\n",
              "    <tr style=\"text-align: right;\">\n",
              "      <th></th>\n",
              "      <th>const</th>\n",
              "      <th>converted</th>\n",
              "      <th>variant_personalization</th>\n",
              "    </tr>\n",
              "  </thead>\n",
              "  <tbody>\n",
              "    <tr>\n",
              "      <th>0</th>\n",
              "      <td>1.0</td>\n",
              "      <td>True</td>\n",
              "      <td>1</td>\n",
              "    </tr>\n",
              "    <tr>\n",
              "      <th>1</th>\n",
              "      <td>1.0</td>\n",
              "      <td>True</td>\n",
              "      <td>1</td>\n",
              "    </tr>\n",
              "    <tr>\n",
              "      <th>2</th>\n",
              "      <td>1.0</td>\n",
              "      <td>True</td>\n",
              "      <td>1</td>\n",
              "    </tr>\n",
              "    <tr>\n",
              "      <th>3</th>\n",
              "      <td>1.0</td>\n",
              "      <td>True</td>\n",
              "      <td>1</td>\n",
              "    </tr>\n",
              "    <tr>\n",
              "      <th>4</th>\n",
              "      <td>1.0</td>\n",
              "      <td>True</td>\n",
              "      <td>1</td>\n",
              "    </tr>\n",
              "    <tr>\n",
              "      <th>...</th>\n",
              "      <td>...</td>\n",
              "      <td>...</td>\n",
              "      <td>...</td>\n",
              "    </tr>\n",
              "    <tr>\n",
              "      <th>572</th>\n",
              "      <td>1.0</td>\n",
              "      <td>True</td>\n",
              "      <td>0</td>\n",
              "    </tr>\n",
              "    <tr>\n",
              "      <th>573</th>\n",
              "      <td>1.0</td>\n",
              "      <td>True</td>\n",
              "      <td>0</td>\n",
              "    </tr>\n",
              "    <tr>\n",
              "      <th>574</th>\n",
              "      <td>1.0</td>\n",
              "      <td>True</td>\n",
              "      <td>0</td>\n",
              "    </tr>\n",
              "    <tr>\n",
              "      <th>575</th>\n",
              "      <td>1.0</td>\n",
              "      <td>True</td>\n",
              "      <td>0</td>\n",
              "    </tr>\n",
              "    <tr>\n",
              "      <th>576</th>\n",
              "      <td>1.0</td>\n",
              "      <td>True</td>\n",
              "      <td>0</td>\n",
              "    </tr>\n",
              "  </tbody>\n",
              "</table>\n",
              "<p>577 rows × 3 columns</p>\n",
              "</div>\n",
              "      <button class=\"colab-df-convert\" onclick=\"convertToInteractive('df-aaa6e9a7-b055-458d-925f-ddd5d781494b')\"\n",
              "              title=\"Convert this dataframe to an interactive table.\"\n",
              "              style=\"display:none;\">\n",
              "        \n",
              "  <svg xmlns=\"http://www.w3.org/2000/svg\" height=\"24px\"viewBox=\"0 0 24 24\"\n",
              "       width=\"24px\">\n",
              "    <path d=\"M0 0h24v24H0V0z\" fill=\"none\"/>\n",
              "    <path d=\"M18.56 5.44l.94 2.06.94-2.06 2.06-.94-2.06-.94-.94-2.06-.94 2.06-2.06.94zm-11 1L8.5 8.5l.94-2.06 2.06-.94-2.06-.94L8.5 2.5l-.94 2.06-2.06.94zm10 10l.94 2.06.94-2.06 2.06-.94-2.06-.94-.94-2.06-.94 2.06-2.06.94z\"/><path d=\"M17.41 7.96l-1.37-1.37c-.4-.4-.92-.59-1.43-.59-.52 0-1.04.2-1.43.59L10.3 9.45l-7.72 7.72c-.78.78-.78 2.05 0 2.83L4 21.41c.39.39.9.59 1.41.59.51 0 1.02-.2 1.41-.59l7.78-7.78 2.81-2.81c.8-.78.8-2.07 0-2.86zM5.41 20L4 18.59l7.72-7.72 1.47 1.35L5.41 20z\"/>\n",
              "  </svg>\n",
              "      </button>\n",
              "      \n",
              "  <style>\n",
              "    .colab-df-container {\n",
              "      display:flex;\n",
              "      flex-wrap:wrap;\n",
              "      gap: 12px;\n",
              "    }\n",
              "\n",
              "    .colab-df-convert {\n",
              "      background-color: #E8F0FE;\n",
              "      border: none;\n",
              "      border-radius: 50%;\n",
              "      cursor: pointer;\n",
              "      display: none;\n",
              "      fill: #1967D2;\n",
              "      height: 32px;\n",
              "      padding: 0 0 0 0;\n",
              "      width: 32px;\n",
              "    }\n",
              "\n",
              "    .colab-df-convert:hover {\n",
              "      background-color: #E2EBFA;\n",
              "      box-shadow: 0px 1px 2px rgba(60, 64, 67, 0.3), 0px 1px 3px 1px rgba(60, 64, 67, 0.15);\n",
              "      fill: #174EA6;\n",
              "    }\n",
              "\n",
              "    [theme=dark] .colab-df-convert {\n",
              "      background-color: #3B4455;\n",
              "      fill: #D2E3FC;\n",
              "    }\n",
              "\n",
              "    [theme=dark] .colab-df-convert:hover {\n",
              "      background-color: #434B5C;\n",
              "      box-shadow: 0px 1px 3px 1px rgba(0, 0, 0, 0.15);\n",
              "      filter: drop-shadow(0px 1px 2px rgba(0, 0, 0, 0.3));\n",
              "      fill: #FFFFFF;\n",
              "    }\n",
              "  </style>\n",
              "\n",
              "      <script>\n",
              "        const buttonEl =\n",
              "          document.querySelector('#df-aaa6e9a7-b055-458d-925f-ddd5d781494b button.colab-df-convert');\n",
              "        buttonEl.style.display =\n",
              "          google.colab.kernel.accessAllowed ? 'block' : 'none';\n",
              "\n",
              "        async function convertToInteractive(key) {\n",
              "          const element = document.querySelector('#df-aaa6e9a7-b055-458d-925f-ddd5d781494b');\n",
              "          const dataTable =\n",
              "            await google.colab.kernel.invokeFunction('convertToInteractive',\n",
              "                                                     [key], {});\n",
              "          if (!dataTable) return;\n",
              "\n",
              "          const docLinkHtml = 'Like what you see? Visit the ' +\n",
              "            '<a target=\"_blank\" href=https://colab.research.google.com/notebooks/data_table.ipynb>data table notebook</a>'\n",
              "            + ' to learn more about interactive tables.';\n",
              "          element.innerHTML = '';\n",
              "          dataTable['output_type'] = 'display_data';\n",
              "          await google.colab.output.renderOutput(dataTable, element);\n",
              "          const docLink = document.createElement('div');\n",
              "          docLink.innerHTML = docLinkHtml;\n",
              "          element.appendChild(docLink);\n",
              "        }\n",
              "      </script>\n",
              "    </div>\n",
              "  </div>\n",
              "  "
            ]
          },
          "metadata": {},
          "execution_count": 20
        }
      ]
    },
    {
      "cell_type": "code",
      "source": [
        "# define and fit logistic regression model\n",
        "log_reg = sm.Logit(data_for_model['converted'], data_for_model[['variant_personalization','const']]).fit()"
      ],
      "metadata": {
        "colab": {
          "base_uri": "https://localhost:8080/"
        },
        "id": "7iqZvCxg6Z4N",
        "outputId": "403756e3-674a-4579-db65-d5680d359675"
      },
      "execution_count": 21,
      "outputs": [
        {
          "output_type": "stream",
          "name": "stdout",
          "text": [
            "Optimization terminated successfully.\n",
            "         Current function value: 0.607966\n",
            "         Iterations 5\n"
          ]
        }
      ]
    },
    {
      "cell_type": "code",
      "source": [
        "# check model summary\n",
        "log_reg.summary()"
      ],
      "metadata": {
        "colab": {
          "base_uri": "https://localhost:8080/",
          "height": 252
        },
        "id": "LaanTwWA6wYo",
        "outputId": "edfaf3e0-4a29-457f-c1f4-33fffe529e43"
      },
      "execution_count": 22,
      "outputs": [
        {
          "output_type": "execute_result",
          "data": {
            "text/plain": [
              "<class 'statsmodels.iolib.summary.Summary'>\n",
              "\"\"\"\n",
              "                           Logit Regression Results                           \n",
              "==============================================================================\n",
              "Dep. Variable:              converted   No. Observations:                  577\n",
              "Model:                          Logit   Df Residuals:                      575\n",
              "Method:                           MLE   Df Model:                            1\n",
              "Date:                Sat, 01 Oct 2022   Pseudo R-squ.:                 0.09393\n",
              "Time:                        11:42:58   Log-Likelihood:                -350.80\n",
              "converged:                       True   LL-Null:                       -387.16\n",
              "Covariance Type:            nonrobust   LLR p-value:                 1.482e-17\n",
              "===========================================================================================\n",
              "                              coef    std err          z      P>|z|      [0.025      0.975]\n",
              "-------------------------------------------------------------------------------------------\n",
              "variant_personalization     1.5025      0.182      8.234      0.000       1.145       1.860\n",
              "const                      -0.3249      0.124     -2.620      0.009      -0.568      -0.082\n",
              "===========================================================================================\n",
              "\"\"\""
            ],
            "text/html": [
              "<table class=\"simpletable\">\n",
              "<caption>Logit Regression Results</caption>\n",
              "<tr>\n",
              "  <th>Dep. Variable:</th>       <td>converted</td>    <th>  No. Observations:  </th>  <td>   577</td>  \n",
              "</tr>\n",
              "<tr>\n",
              "  <th>Model:</th>                 <td>Logit</td>      <th>  Df Residuals:      </th>  <td>   575</td>  \n",
              "</tr>\n",
              "<tr>\n",
              "  <th>Method:</th>                 <td>MLE</td>       <th>  Df Model:          </th>  <td>     1</td>  \n",
              "</tr>\n",
              "<tr>\n",
              "  <th>Date:</th>            <td>Sat, 01 Oct 2022</td> <th>  Pseudo R-squ.:     </th>  <td>0.09393</td> \n",
              "</tr>\n",
              "<tr>\n",
              "  <th>Time:</th>                <td>11:42:58</td>     <th>  Log-Likelihood:    </th> <td> -350.80</td> \n",
              "</tr>\n",
              "<tr>\n",
              "  <th>converged:</th>             <td>True</td>       <th>  LL-Null:           </th> <td> -387.16</td> \n",
              "</tr>\n",
              "<tr>\n",
              "  <th>Covariance Type:</th>     <td>nonrobust</td>    <th>  LLR p-value:       </th> <td>1.482e-17</td>\n",
              "</tr>\n",
              "</table>\n",
              "<table class=\"simpletable\">\n",
              "<tr>\n",
              "             <td></td>                <th>coef</th>     <th>std err</th>      <th>z</th>      <th>P>|z|</th>  <th>[0.025</th>    <th>0.975]</th>  \n",
              "</tr>\n",
              "<tr>\n",
              "  <th>variant_personalization</th> <td>    1.5025</td> <td>    0.182</td> <td>    8.234</td> <td> 0.000</td> <td>    1.145</td> <td>    1.860</td>\n",
              "</tr>\n",
              "<tr>\n",
              "  <th>const</th>                   <td>   -0.3249</td> <td>    0.124</td> <td>   -2.620</td> <td> 0.009</td> <td>   -0.568</td> <td>   -0.082</td>\n",
              "</tr>\n",
              "</table>"
            ]
          },
          "metadata": {},
          "execution_count": 22
        }
      ]
    },
    {
      "cell_type": "markdown",
      "source": [
        "**Interpretation**\n",
        "\n",
        "- We can observe uplift of variant personalization around 150.25%\n",
        "- Based on p-value = 0.000 < alpha = 0.05, hence there is strong statistical significance in test results. Then, we should reject null hypothesis and proceed to launch variant personalization for all users\n"
      ],
      "metadata": {
        "id": "HFJq94Um7-rz"
      }
    }
  ]
}